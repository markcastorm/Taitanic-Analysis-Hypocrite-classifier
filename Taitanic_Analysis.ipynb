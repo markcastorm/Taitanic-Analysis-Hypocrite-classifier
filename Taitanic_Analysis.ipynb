{
  "nbformat": 4,
  "nbformat_minor": 0,
  "metadata": {
    "colab": {
      "provenance": [],
      "authorship_tag": "ABX9TyMHatzmYk1IECr0whglBoEY",
      "include_colab_link": true
    },
    "kernelspec": {
      "name": "python3",
      "display_name": "Python 3"
    },
    "language_info": {
      "name": "python"
    }
  },
  "cells": [
    {
      "cell_type": "markdown",
      "metadata": {
        "id": "view-in-github",
        "colab_type": "text"
      },
      "source": [
        "<a href=\"https://colab.research.google.com/github/markcastorm/Taitanic-Analysis-Hypocrite-classifier/blob/main/Taitanic_Analysis.ipynb\" target=\"_parent\"><img src=\"https://colab.research.google.com/assets/colab-badge.svg\" alt=\"Open In Colab\"/></a>"
      ]
    },
    {
      "cell_type": "code",
      "execution_count": null,
      "metadata": {
        "id": "VaeOdLhFF9uJ"
      },
      "outputs": [],
      "source": [
        "import pandas as pd"
      ]
    },
    {
      "cell_type": "code",
      "source": [
        "train = pd.read_csv('train.csv')\n",
        "test = pd.read_csv('test.csv')\n"
      ],
      "metadata": {
        "id": "CJFylO4eHbZJ"
      },
      "execution_count": null,
      "outputs": []
    },
    {
      "cell_type": "markdown",
      "source": [
        "The shapes of the Titanic datasets"
      ],
      "metadata": {
        "id": "zHTulGgOJq13"
      }
    },
    {
      "cell_type": "code",
      "source": [
        "print('train has {} rows and {} columns' .format(*train.shape))\n",
        "print('test has {} rows and {} columns'.format(*test.shape))"
      ],
      "metadata": {
        "id": "5g2zWIj2Hbui",
        "colab": {
          "base_uri": "https://localhost:8080/"
        },
        "outputId": "8167b5f5-bd3c-4bbc-b0b7-605f788ee632"
      },
      "execution_count": null,
      "outputs": [
        {
          "output_type": "stream",
          "name": "stdout",
          "text": [
            "train has 891 rows and 12 columns\n",
            "test has 418 rows and 11 columns\n"
          ]
        }
      ]
    },
    {
      "cell_type": "markdown",
      "source": [
        "The structure of the train dataset"
      ],
      "metadata": {
        "id": "7M9qOzICKSW9"
      }
    },
    {
      "cell_type": "code",
      "source": [
        "train.info()"
      ],
      "metadata": {
        "id": "rLwzyvTXHcMJ",
        "colab": {
          "base_uri": "https://localhost:8080/"
        },
        "outputId": "42c942ab-f198-413b-b37b-bce57e7c0200"
      },
      "execution_count": null,
      "outputs": [
        {
          "output_type": "stream",
          "name": "stdout",
          "text": [
            "<class 'pandas.core.frame.DataFrame'>\n",
            "RangeIndex: 891 entries, 0 to 890\n",
            "Data columns (total 12 columns):\n",
            " #   Column       Non-Null Count  Dtype  \n",
            "---  ------       --------------  -----  \n",
            " 0   PassengerId  891 non-null    int64  \n",
            " 1   Survived     891 non-null    int64  \n",
            " 2   Pclass       891 non-null    int64  \n",
            " 3   Name         891 non-null    object \n",
            " 4   Sex          891 non-null    object \n",
            " 5   Age          714 non-null    float64\n",
            " 6   SibSp        891 non-null    int64  \n",
            " 7   Parch        891 non-null    int64  \n",
            " 8   Ticket       891 non-null    object \n",
            " 9   Fare         891 non-null    float64\n",
            " 10  Cabin        204 non-null    object \n",
            " 11  Embarked     889 non-null    object \n",
            "dtypes: float64(2), int64(5), object(5)\n",
            "memory usage: 83.7+ KB\n"
          ]
        }
      ]
    },
    {
      "cell_type": "code",
      "source": [
        "test.info()"
      ],
      "metadata": {
        "id": "lKBLkltDHcjB",
        "colab": {
          "base_uri": "https://localhost:8080/"
        },
        "outputId": "39ac4375-8441-43f2-a8fc-c332e0a4642e"
      },
      "execution_count": null,
      "outputs": [
        {
          "output_type": "stream",
          "name": "stdout",
          "text": [
            "<class 'pandas.core.frame.DataFrame'>\n",
            "RangeIndex: 418 entries, 0 to 417\n",
            "Data columns (total 11 columns):\n",
            " #   Column       Non-Null Count  Dtype  \n",
            "---  ------       --------------  -----  \n",
            " 0   PassengerId  418 non-null    int64  \n",
            " 1   Pclass       418 non-null    int64  \n",
            " 2   Name         418 non-null    object \n",
            " 3   Sex          418 non-null    object \n",
            " 4   Age          332 non-null    float64\n",
            " 5   SibSp        418 non-null    int64  \n",
            " 6   Parch        418 non-null    int64  \n",
            " 7   Ticket       418 non-null    object \n",
            " 8   Fare         417 non-null    float64\n",
            " 9   Cabin        91 non-null     object \n",
            " 10  Embarked     418 non-null    object \n",
            "dtypes: float64(2), int64(4), object(5)\n",
            "memory usage: 36.0+ KB\n"
          ]
        }
      ]
    },
    {
      "cell_type": "markdown",
      "source": [
        "The PassengerId is a consecutive\n",
        "number identifying each row. Survived is the indicator of whether the\n",
        "passenger survived (0 = No, 1 = Yes). Pclass is the ticket class (1 = 1st, 2 = 2nd, 3\n",
        "= 3rd). Then we have self-explanatory Name, Sex, and Age.\n",
        "SibSp denotes the number of this passenger’s siblings or spouses aboard the\n",
        "Titanic. Parch indicates the number of this passenger’s parents or children\n",
        "aboard the Titanic.\n",
        "Then, there is the Fare the passenger paid, the Cabin number, and the port of\n",
        "embarkation (embarked) (C = Cherbourg, Q = Queenstown, S = Southampton)."
      ],
      "metadata": {
        "id": "ybDgUgINLlCJ"
      }
    },
    {
      "cell_type": "code",
      "source": [
        "train.head()"
      ],
      "metadata": {
        "id": "eQleb-99Hc5D",
        "colab": {
          "base_uri": "https://localhost:8080/",
          "height": 345
        },
        "outputId": "1590abc5-7860-4f5a-fa5b-971f212b59cb"
      },
      "execution_count": null,
      "outputs": [
        {
          "output_type": "execute_result",
          "data": {
            "text/plain": [
              "   PassengerId  Survived  Pclass  \\\n",
              "0            1         0       3   \n",
              "1            2         1       1   \n",
              "2            3         1       3   \n",
              "3            4         1       1   \n",
              "4            5         0       3   \n",
              "\n",
              "                                                Name     Sex   Age  SibSp  \\\n",
              "0                            Braund, Mr. Owen Harris    male  22.0      1   \n",
              "1  Cumings, Mrs. John Bradley (Florence Briggs Th...  female  38.0      1   \n",
              "2                             Heikkinen, Miss. Laina  female  26.0      0   \n",
              "3       Futrelle, Mrs. Jacques Heath (Lily May Peel)  female  35.0      1   \n",
              "4                           Allen, Mr. William Henry    male  35.0      0   \n",
              "\n",
              "   Parch            Ticket     Fare Cabin Embarked  \n",
              "0      0         A/5 21171   7.2500   NaN        S  \n",
              "1      0          PC 17599  71.2833   C85        C  \n",
              "2      0  STON/O2. 3101282   7.9250   NaN        S  \n",
              "3      0            113803  53.1000  C123        S  \n",
              "4      0            373450   8.0500   NaN        S  "
            ],
            "text/html": [
              "\n",
              "  <div id=\"df-8ad02a8f-b9be-43dc-ad0b-3ec72949b3bc\" class=\"colab-df-container\">\n",
              "    <div>\n",
              "<style scoped>\n",
              "    .dataframe tbody tr th:only-of-type {\n",
              "        vertical-align: middle;\n",
              "    }\n",
              "\n",
              "    .dataframe tbody tr th {\n",
              "        vertical-align: top;\n",
              "    }\n",
              "\n",
              "    .dataframe thead th {\n",
              "        text-align: right;\n",
              "    }\n",
              "</style>\n",
              "<table border=\"1\" class=\"dataframe\">\n",
              "  <thead>\n",
              "    <tr style=\"text-align: right;\">\n",
              "      <th></th>\n",
              "      <th>PassengerId</th>\n",
              "      <th>Survived</th>\n",
              "      <th>Pclass</th>\n",
              "      <th>Name</th>\n",
              "      <th>Sex</th>\n",
              "      <th>Age</th>\n",
              "      <th>SibSp</th>\n",
              "      <th>Parch</th>\n",
              "      <th>Ticket</th>\n",
              "      <th>Fare</th>\n",
              "      <th>Cabin</th>\n",
              "      <th>Embarked</th>\n",
              "    </tr>\n",
              "  </thead>\n",
              "  <tbody>\n",
              "    <tr>\n",
              "      <th>0</th>\n",
              "      <td>1</td>\n",
              "      <td>0</td>\n",
              "      <td>3</td>\n",
              "      <td>Braund, Mr. Owen Harris</td>\n",
              "      <td>male</td>\n",
              "      <td>22.0</td>\n",
              "      <td>1</td>\n",
              "      <td>0</td>\n",
              "      <td>A/5 21171</td>\n",
              "      <td>7.2500</td>\n",
              "      <td>NaN</td>\n",
              "      <td>S</td>\n",
              "    </tr>\n",
              "    <tr>\n",
              "      <th>1</th>\n",
              "      <td>2</td>\n",
              "      <td>1</td>\n",
              "      <td>1</td>\n",
              "      <td>Cumings, Mrs. John Bradley (Florence Briggs Th...</td>\n",
              "      <td>female</td>\n",
              "      <td>38.0</td>\n",
              "      <td>1</td>\n",
              "      <td>0</td>\n",
              "      <td>PC 17599</td>\n",
              "      <td>71.2833</td>\n",
              "      <td>C85</td>\n",
              "      <td>C</td>\n",
              "    </tr>\n",
              "    <tr>\n",
              "      <th>2</th>\n",
              "      <td>3</td>\n",
              "      <td>1</td>\n",
              "      <td>3</td>\n",
              "      <td>Heikkinen, Miss. Laina</td>\n",
              "      <td>female</td>\n",
              "      <td>26.0</td>\n",
              "      <td>0</td>\n",
              "      <td>0</td>\n",
              "      <td>STON/O2. 3101282</td>\n",
              "      <td>7.9250</td>\n",
              "      <td>NaN</td>\n",
              "      <td>S</td>\n",
              "    </tr>\n",
              "    <tr>\n",
              "      <th>3</th>\n",
              "      <td>4</td>\n",
              "      <td>1</td>\n",
              "      <td>1</td>\n",
              "      <td>Futrelle, Mrs. Jacques Heath (Lily May Peel)</td>\n",
              "      <td>female</td>\n",
              "      <td>35.0</td>\n",
              "      <td>1</td>\n",
              "      <td>0</td>\n",
              "      <td>113803</td>\n",
              "      <td>53.1000</td>\n",
              "      <td>C123</td>\n",
              "      <td>S</td>\n",
              "    </tr>\n",
              "    <tr>\n",
              "      <th>4</th>\n",
              "      <td>5</td>\n",
              "      <td>0</td>\n",
              "      <td>3</td>\n",
              "      <td>Allen, Mr. William Henry</td>\n",
              "      <td>male</td>\n",
              "      <td>35.0</td>\n",
              "      <td>0</td>\n",
              "      <td>0</td>\n",
              "      <td>373450</td>\n",
              "      <td>8.0500</td>\n",
              "      <td>NaN</td>\n",
              "      <td>S</td>\n",
              "    </tr>\n",
              "  </tbody>\n",
              "</table>\n",
              "</div>\n",
              "    <div class=\"colab-df-buttons\">\n",
              "\n",
              "  <div class=\"colab-df-container\">\n",
              "    <button class=\"colab-df-convert\" onclick=\"convertToInteractive('df-8ad02a8f-b9be-43dc-ad0b-3ec72949b3bc')\"\n",
              "            title=\"Convert this dataframe to an interactive table.\"\n",
              "            style=\"display:none;\">\n",
              "\n",
              "  <svg xmlns=\"http://www.w3.org/2000/svg\" height=\"24px\" viewBox=\"0 -960 960 960\">\n",
              "    <path d=\"M120-120v-720h720v720H120Zm60-500h600v-160H180v160Zm220 220h160v-160H400v160Zm0 220h160v-160H400v160ZM180-400h160v-160H180v160Zm440 0h160v-160H620v160ZM180-180h160v-160H180v160Zm440 0h160v-160H620v160Z\"/>\n",
              "  </svg>\n",
              "    </button>\n",
              "\n",
              "  <style>\n",
              "    .colab-df-container {\n",
              "      display:flex;\n",
              "      gap: 12px;\n",
              "    }\n",
              "\n",
              "    .colab-df-convert {\n",
              "      background-color: #E8F0FE;\n",
              "      border: none;\n",
              "      border-radius: 50%;\n",
              "      cursor: pointer;\n",
              "      display: none;\n",
              "      fill: #1967D2;\n",
              "      height: 32px;\n",
              "      padding: 0 0 0 0;\n",
              "      width: 32px;\n",
              "    }\n",
              "\n",
              "    .colab-df-convert:hover {\n",
              "      background-color: #E2EBFA;\n",
              "      box-shadow: 0px 1px 2px rgba(60, 64, 67, 0.3), 0px 1px 3px 1px rgba(60, 64, 67, 0.15);\n",
              "      fill: #174EA6;\n",
              "    }\n",
              "\n",
              "    .colab-df-buttons div {\n",
              "      margin-bottom: 4px;\n",
              "    }\n",
              "\n",
              "    [theme=dark] .colab-df-convert {\n",
              "      background-color: #3B4455;\n",
              "      fill: #D2E3FC;\n",
              "    }\n",
              "\n",
              "    [theme=dark] .colab-df-convert:hover {\n",
              "      background-color: #434B5C;\n",
              "      box-shadow: 0px 1px 3px 1px rgba(0, 0, 0, 0.15);\n",
              "      filter: drop-shadow(0px 1px 2px rgba(0, 0, 0, 0.3));\n",
              "      fill: #FFFFFF;\n",
              "    }\n",
              "  </style>\n",
              "\n",
              "    <script>\n",
              "      const buttonEl =\n",
              "        document.querySelector('#df-8ad02a8f-b9be-43dc-ad0b-3ec72949b3bc button.colab-df-convert');\n",
              "      buttonEl.style.display =\n",
              "        google.colab.kernel.accessAllowed ? 'block' : 'none';\n",
              "\n",
              "      async function convertToInteractive(key) {\n",
              "        const element = document.querySelector('#df-8ad02a8f-b9be-43dc-ad0b-3ec72949b3bc');\n",
              "        const dataTable =\n",
              "          await google.colab.kernel.invokeFunction('convertToInteractive',\n",
              "                                                    [key], {});\n",
              "        if (!dataTable) return;\n",
              "\n",
              "        const docLinkHtml = 'Like what you see? Visit the ' +\n",
              "          '<a target=\"_blank\" href=https://colab.research.google.com/notebooks/data_table.ipynb>data table notebook</a>'\n",
              "          + ' to learn more about interactive tables.';\n",
              "        element.innerHTML = '';\n",
              "        dataTable['output_type'] = 'display_data';\n",
              "        await google.colab.output.renderOutput(dataTable, element);\n",
              "        const docLink = document.createElement('div');\n",
              "        docLink.innerHTML = docLinkHtml;\n",
              "        element.appendChild(docLink);\n",
              "      }\n",
              "    </script>\n",
              "  </div>\n",
              "\n",
              "\n",
              "<div id=\"df-56cde849-4e80-49ea-a7be-fe46211529cf\">\n",
              "  <button class=\"colab-df-quickchart\" onclick=\"quickchart('df-56cde849-4e80-49ea-a7be-fe46211529cf')\"\n",
              "            title=\"Suggest charts.\"\n",
              "            style=\"display:none;\">\n",
              "\n",
              "<svg xmlns=\"http://www.w3.org/2000/svg\" height=\"24px\"viewBox=\"0 0 24 24\"\n",
              "     width=\"24px\">\n",
              "    <g>\n",
              "        <path d=\"M19 3H5c-1.1 0-2 .9-2 2v14c0 1.1.9 2 2 2h14c1.1 0 2-.9 2-2V5c0-1.1-.9-2-2-2zM9 17H7v-7h2v7zm4 0h-2V7h2v10zm4 0h-2v-4h2v4z\"/>\n",
              "    </g>\n",
              "</svg>\n",
              "  </button>\n",
              "\n",
              "<style>\n",
              "  .colab-df-quickchart {\n",
              "      --bg-color: #E8F0FE;\n",
              "      --fill-color: #1967D2;\n",
              "      --hover-bg-color: #E2EBFA;\n",
              "      --hover-fill-color: #174EA6;\n",
              "      --disabled-fill-color: #AAA;\n",
              "      --disabled-bg-color: #DDD;\n",
              "  }\n",
              "\n",
              "  [theme=dark] .colab-df-quickchart {\n",
              "      --bg-color: #3B4455;\n",
              "      --fill-color: #D2E3FC;\n",
              "      --hover-bg-color: #434B5C;\n",
              "      --hover-fill-color: #FFFFFF;\n",
              "      --disabled-bg-color: #3B4455;\n",
              "      --disabled-fill-color: #666;\n",
              "  }\n",
              "\n",
              "  .colab-df-quickchart {\n",
              "    background-color: var(--bg-color);\n",
              "    border: none;\n",
              "    border-radius: 50%;\n",
              "    cursor: pointer;\n",
              "    display: none;\n",
              "    fill: var(--fill-color);\n",
              "    height: 32px;\n",
              "    padding: 0;\n",
              "    width: 32px;\n",
              "  }\n",
              "\n",
              "  .colab-df-quickchart:hover {\n",
              "    background-color: var(--hover-bg-color);\n",
              "    box-shadow: 0 1px 2px rgba(60, 64, 67, 0.3), 0 1px 3px 1px rgba(60, 64, 67, 0.15);\n",
              "    fill: var(--button-hover-fill-color);\n",
              "  }\n",
              "\n",
              "  .colab-df-quickchart-complete:disabled,\n",
              "  .colab-df-quickchart-complete:disabled:hover {\n",
              "    background-color: var(--disabled-bg-color);\n",
              "    fill: var(--disabled-fill-color);\n",
              "    box-shadow: none;\n",
              "  }\n",
              "\n",
              "  .colab-df-spinner {\n",
              "    border: 2px solid var(--fill-color);\n",
              "    border-color: transparent;\n",
              "    border-bottom-color: var(--fill-color);\n",
              "    animation:\n",
              "      spin 1s steps(1) infinite;\n",
              "  }\n",
              "\n",
              "  @keyframes spin {\n",
              "    0% {\n",
              "      border-color: transparent;\n",
              "      border-bottom-color: var(--fill-color);\n",
              "      border-left-color: var(--fill-color);\n",
              "    }\n",
              "    20% {\n",
              "      border-color: transparent;\n",
              "      border-left-color: var(--fill-color);\n",
              "      border-top-color: var(--fill-color);\n",
              "    }\n",
              "    30% {\n",
              "      border-color: transparent;\n",
              "      border-left-color: var(--fill-color);\n",
              "      border-top-color: var(--fill-color);\n",
              "      border-right-color: var(--fill-color);\n",
              "    }\n",
              "    40% {\n",
              "      border-color: transparent;\n",
              "      border-right-color: var(--fill-color);\n",
              "      border-top-color: var(--fill-color);\n",
              "    }\n",
              "    60% {\n",
              "      border-color: transparent;\n",
              "      border-right-color: var(--fill-color);\n",
              "    }\n",
              "    80% {\n",
              "      border-color: transparent;\n",
              "      border-right-color: var(--fill-color);\n",
              "      border-bottom-color: var(--fill-color);\n",
              "    }\n",
              "    90% {\n",
              "      border-color: transparent;\n",
              "      border-bottom-color: var(--fill-color);\n",
              "    }\n",
              "  }\n",
              "</style>\n",
              "\n",
              "  <script>\n",
              "    async function quickchart(key) {\n",
              "      const quickchartButtonEl =\n",
              "        document.querySelector('#' + key + ' button');\n",
              "      quickchartButtonEl.disabled = true;  // To prevent multiple clicks.\n",
              "      quickchartButtonEl.classList.add('colab-df-spinner');\n",
              "      try {\n",
              "        const charts = await google.colab.kernel.invokeFunction(\n",
              "            'suggestCharts', [key], {});\n",
              "      } catch (error) {\n",
              "        console.error('Error during call to suggestCharts:', error);\n",
              "      }\n",
              "      quickchartButtonEl.classList.remove('colab-df-spinner');\n",
              "      quickchartButtonEl.classList.add('colab-df-quickchart-complete');\n",
              "    }\n",
              "    (() => {\n",
              "      let quickchartButtonEl =\n",
              "        document.querySelector('#df-56cde849-4e80-49ea-a7be-fe46211529cf button');\n",
              "      quickchartButtonEl.style.display =\n",
              "        google.colab.kernel.accessAllowed ? 'block' : 'none';\n",
              "    })();\n",
              "  </script>\n",
              "</div>\n",
              "    </div>\n",
              "  </div>\n"
            ]
          },
          "metadata": {},
          "execution_count": 6
        }
      ]
    },
    {
      "cell_type": "markdown",
      "source": [
        "Now lets handle the missing values"
      ],
      "metadata": {
        "id": "JQ2un9d5MIeV"
      }
    },
    {
      "cell_type": "code",
      "source": [
        "#only have two passengers without it.\n",
        "train = train.dropna(subset=[\"Embarked\"])\n",
        "#very few information about the cabin,\n",
        "train = train.drop(\"Cabin\", axis=1)\n",
        "#fill age misisng values since it is important\n",
        "mean = train[\"Age\"].mean()\n",
        "train[\"Age\"] = train[\"Age\"].fillna(mean)\n",
        "\n",
        "train.info()\n"
      ],
      "metadata": {
        "id": "vB8q_cGrHdVa",
        "colab": {
          "base_uri": "https://localhost:8080/"
        },
        "outputId": "fce2a2cd-69f9-46c1-bdba-7ba8e0498816"
      },
      "execution_count": null,
      "outputs": [
        {
          "output_type": "stream",
          "name": "stdout",
          "text": [
            "<class 'pandas.core.frame.DataFrame'>\n",
            "Int64Index: 889 entries, 0 to 890\n",
            "Data columns (total 11 columns):\n",
            " #   Column       Non-Null Count  Dtype  \n",
            "---  ------       --------------  -----  \n",
            " 0   PassengerId  889 non-null    int64  \n",
            " 1   Survived     889 non-null    int64  \n",
            " 2   Pclass       889 non-null    int64  \n",
            " 3   Name         889 non-null    object \n",
            " 4   Sex          889 non-null    object \n",
            " 5   Age          889 non-null    float64\n",
            " 6   SibSp        889 non-null    int64  \n",
            " 7   Parch        889 non-null    int64  \n",
            " 8   Ticket       889 non-null    object \n",
            " 9   Fare         889 non-null    float64\n",
            " 10  Embarked     889 non-null    object \n",
            "dtypes: float64(2), int64(5), object(4)\n",
            "memory usage: 83.3+ KB\n"
          ]
        }
      ]
    },
    {
      "cell_type": "markdown",
      "source": [
        "Unique values in columns"
      ],
      "metadata": {
        "id": "9g8ZVmdgUDJ8"
      }
    },
    {
      "cell_type": "code",
      "source": [
        "print('There are {} different (unique) PassengerIds in the data'\n",
        "      .format(train[\"PassengerId\"].nunique()))\n",
        "print('There are {} different (unique) names in the data'\n",
        "      .format(train[\"Name\"].nunique()))\n",
        "print('There are {} different (unique) ticket numbers in the data'\n",
        "       .format(train[\"Ticket\"].nunique()))"
      ],
      "metadata": {
        "id": "-MmAlF5TLF8P",
        "colab": {
          "base_uri": "https://localhost:8080/"
        },
        "outputId": "621551b8-1f04-4c57-caac-e626b18fd485"
      },
      "execution_count": null,
      "outputs": [
        {
          "output_type": "stream",
          "name": "stdout",
          "text": [
            "There are 889 different (unique) PassengerIds in the data\n",
            "There are 889 different (unique) names in the data\n",
            "There are 680 different (unique) ticket numbers in the data\n"
          ]
        }
      ]
    },
    {
      "cell_type": "markdown",
      "source": [
        "Name and PassengerId are perfect identifiers."
      ],
      "metadata": {
        "id": "IbfVzZM3WhD0"
      }
    },
    {
      "cell_type": "code",
      "source": [
        "#Remove identifying data\n",
        "train = train.drop(\"PassengerId\",axis=1)\n",
        "train = train.drop(\"Name\", axis=1)\n",
        "train = train.drop(\"Ticket\", axis=1)\n",
        "train.info()"
      ],
      "metadata": {
        "id": "cnMuewAwLGcs",
        "colab": {
          "base_uri": "https://localhost:8080/"
        },
        "outputId": "6453f524-1a18-49f5-b70d-2ea0d3f3cc44"
      },
      "execution_count": null,
      "outputs": [
        {
          "output_type": "stream",
          "name": "stdout",
          "text": [
            "<class 'pandas.core.frame.DataFrame'>\n",
            "Int64Index: 889 entries, 0 to 890\n",
            "Data columns (total 8 columns):\n",
            " #   Column    Non-Null Count  Dtype  \n",
            "---  ------    --------------  -----  \n",
            " 0   Survived  889 non-null    int64  \n",
            " 1   Pclass    889 non-null    int64  \n",
            " 2   Sex       889 non-null    object \n",
            " 3   Age       889 non-null    float64\n",
            " 4   SibSp     889 non-null    int64  \n",
            " 5   Parch     889 non-null    int64  \n",
            " 6   Fare      889 non-null    float64\n",
            " 7   Embarked  889 non-null    object \n",
            "dtypes: float64(2), int64(4), object(2)\n",
            "memory usage: 62.5+ KB\n"
          ]
        }
      ]
    },
    {
      "cell_type": "markdown",
      "source": [
        "Transforming textual data into numbers"
      ],
      "metadata": {
        "id": "r05SP8CNXhSb"
      }
    },
    {
      "cell_type": "code",
      "source": [
        "from sklearn.preprocessing import LabelEncoder\n",
        "le = LabelEncoder()\n",
        "\n",
        "for col in ['Sex', 'Embarked']:\n",
        "  le.fit(train[col])\n",
        "  train[col] = le.transform(train[col])\n",
        "\n",
        "train.head()"
      ],
      "metadata": {
        "id": "ouFyBvmILHJw",
        "colab": {
          "base_uri": "https://localhost:8080/",
          "height": 206
        },
        "outputId": "af023b4f-c5f6-45a9-cf2e-9307de8c3191"
      },
      "execution_count": null,
      "outputs": [
        {
          "output_type": "execute_result",
          "data": {
            "text/plain": [
              "   Survived  Pclass  Sex   Age  SibSp  Parch     Fare  Embarked\n",
              "0         0       3    1  22.0      1      0   7.2500         2\n",
              "1         1       1    0  38.0      1      0  71.2833         0\n",
              "2         1       3    0  26.0      0      0   7.9250         2\n",
              "3         1       1    0  35.0      1      0  53.1000         2\n",
              "4         0       3    1  35.0      0      0   8.0500         2"
            ],
            "text/html": [
              "\n",
              "  <div id=\"df-507c855d-8006-42a4-8fe8-c019f3c0eb1f\" class=\"colab-df-container\">\n",
              "    <div>\n",
              "<style scoped>\n",
              "    .dataframe tbody tr th:only-of-type {\n",
              "        vertical-align: middle;\n",
              "    }\n",
              "\n",
              "    .dataframe tbody tr th {\n",
              "        vertical-align: top;\n",
              "    }\n",
              "\n",
              "    .dataframe thead th {\n",
              "        text-align: right;\n",
              "    }\n",
              "</style>\n",
              "<table border=\"1\" class=\"dataframe\">\n",
              "  <thead>\n",
              "    <tr style=\"text-align: right;\">\n",
              "      <th></th>\n",
              "      <th>Survived</th>\n",
              "      <th>Pclass</th>\n",
              "      <th>Sex</th>\n",
              "      <th>Age</th>\n",
              "      <th>SibSp</th>\n",
              "      <th>Parch</th>\n",
              "      <th>Fare</th>\n",
              "      <th>Embarked</th>\n",
              "    </tr>\n",
              "  </thead>\n",
              "  <tbody>\n",
              "    <tr>\n",
              "      <th>0</th>\n",
              "      <td>0</td>\n",
              "      <td>3</td>\n",
              "      <td>1</td>\n",
              "      <td>22.0</td>\n",
              "      <td>1</td>\n",
              "      <td>0</td>\n",
              "      <td>7.2500</td>\n",
              "      <td>2</td>\n",
              "    </tr>\n",
              "    <tr>\n",
              "      <th>1</th>\n",
              "      <td>1</td>\n",
              "      <td>1</td>\n",
              "      <td>0</td>\n",
              "      <td>38.0</td>\n",
              "      <td>1</td>\n",
              "      <td>0</td>\n",
              "      <td>71.2833</td>\n",
              "      <td>0</td>\n",
              "    </tr>\n",
              "    <tr>\n",
              "      <th>2</th>\n",
              "      <td>1</td>\n",
              "      <td>3</td>\n",
              "      <td>0</td>\n",
              "      <td>26.0</td>\n",
              "      <td>0</td>\n",
              "      <td>0</td>\n",
              "      <td>7.9250</td>\n",
              "      <td>2</td>\n",
              "    </tr>\n",
              "    <tr>\n",
              "      <th>3</th>\n",
              "      <td>1</td>\n",
              "      <td>1</td>\n",
              "      <td>0</td>\n",
              "      <td>35.0</td>\n",
              "      <td>1</td>\n",
              "      <td>0</td>\n",
              "      <td>53.1000</td>\n",
              "      <td>2</td>\n",
              "    </tr>\n",
              "    <tr>\n",
              "      <th>4</th>\n",
              "      <td>0</td>\n",
              "      <td>3</td>\n",
              "      <td>1</td>\n",
              "      <td>35.0</td>\n",
              "      <td>0</td>\n",
              "      <td>0</td>\n",
              "      <td>8.0500</td>\n",
              "      <td>2</td>\n",
              "    </tr>\n",
              "  </tbody>\n",
              "</table>\n",
              "</div>\n",
              "    <div class=\"colab-df-buttons\">\n",
              "\n",
              "  <div class=\"colab-df-container\">\n",
              "    <button class=\"colab-df-convert\" onclick=\"convertToInteractive('df-507c855d-8006-42a4-8fe8-c019f3c0eb1f')\"\n",
              "            title=\"Convert this dataframe to an interactive table.\"\n",
              "            style=\"display:none;\">\n",
              "\n",
              "  <svg xmlns=\"http://www.w3.org/2000/svg\" height=\"24px\" viewBox=\"0 -960 960 960\">\n",
              "    <path d=\"M120-120v-720h720v720H120Zm60-500h600v-160H180v160Zm220 220h160v-160H400v160Zm0 220h160v-160H400v160ZM180-400h160v-160H180v160Zm440 0h160v-160H620v160ZM180-180h160v-160H180v160Zm440 0h160v-160H620v160Z\"/>\n",
              "  </svg>\n",
              "    </button>\n",
              "\n",
              "  <style>\n",
              "    .colab-df-container {\n",
              "      display:flex;\n",
              "      gap: 12px;\n",
              "    }\n",
              "\n",
              "    .colab-df-convert {\n",
              "      background-color: #E8F0FE;\n",
              "      border: none;\n",
              "      border-radius: 50%;\n",
              "      cursor: pointer;\n",
              "      display: none;\n",
              "      fill: #1967D2;\n",
              "      height: 32px;\n",
              "      padding: 0 0 0 0;\n",
              "      width: 32px;\n",
              "    }\n",
              "\n",
              "    .colab-df-convert:hover {\n",
              "      background-color: #E2EBFA;\n",
              "      box-shadow: 0px 1px 2px rgba(60, 64, 67, 0.3), 0px 1px 3px 1px rgba(60, 64, 67, 0.15);\n",
              "      fill: #174EA6;\n",
              "    }\n",
              "\n",
              "    .colab-df-buttons div {\n",
              "      margin-bottom: 4px;\n",
              "    }\n",
              "\n",
              "    [theme=dark] .colab-df-convert {\n",
              "      background-color: #3B4455;\n",
              "      fill: #D2E3FC;\n",
              "    }\n",
              "\n",
              "    [theme=dark] .colab-df-convert:hover {\n",
              "      background-color: #434B5C;\n",
              "      box-shadow: 0px 1px 3px 1px rgba(0, 0, 0, 0.15);\n",
              "      filter: drop-shadow(0px 1px 2px rgba(0, 0, 0, 0.3));\n",
              "      fill: #FFFFFF;\n",
              "    }\n",
              "  </style>\n",
              "\n",
              "    <script>\n",
              "      const buttonEl =\n",
              "        document.querySelector('#df-507c855d-8006-42a4-8fe8-c019f3c0eb1f button.colab-df-convert');\n",
              "      buttonEl.style.display =\n",
              "        google.colab.kernel.accessAllowed ? 'block' : 'none';\n",
              "\n",
              "      async function convertToInteractive(key) {\n",
              "        const element = document.querySelector('#df-507c855d-8006-42a4-8fe8-c019f3c0eb1f');\n",
              "        const dataTable =\n",
              "          await google.colab.kernel.invokeFunction('convertToInteractive',\n",
              "                                                    [key], {});\n",
              "        if (!dataTable) return;\n",
              "\n",
              "        const docLinkHtml = 'Like what you see? Visit the ' +\n",
              "          '<a target=\"_blank\" href=https://colab.research.google.com/notebooks/data_table.ipynb>data table notebook</a>'\n",
              "          + ' to learn more about interactive tables.';\n",
              "        element.innerHTML = '';\n",
              "        dataTable['output_type'] = 'display_data';\n",
              "        await google.colab.output.renderOutput(dataTable, element);\n",
              "        const docLink = document.createElement('div');\n",
              "        docLink.innerHTML = docLinkHtml;\n",
              "        element.appendChild(docLink);\n",
              "      }\n",
              "    </script>\n",
              "  </div>\n",
              "\n",
              "\n",
              "<div id=\"df-200c9a36-0710-47ef-b7cf-b7e8e63446ee\">\n",
              "  <button class=\"colab-df-quickchart\" onclick=\"quickchart('df-200c9a36-0710-47ef-b7cf-b7e8e63446ee')\"\n",
              "            title=\"Suggest charts.\"\n",
              "            style=\"display:none;\">\n",
              "\n",
              "<svg xmlns=\"http://www.w3.org/2000/svg\" height=\"24px\"viewBox=\"0 0 24 24\"\n",
              "     width=\"24px\">\n",
              "    <g>\n",
              "        <path d=\"M19 3H5c-1.1 0-2 .9-2 2v14c0 1.1.9 2 2 2h14c1.1 0 2-.9 2-2V5c0-1.1-.9-2-2-2zM9 17H7v-7h2v7zm4 0h-2V7h2v10zm4 0h-2v-4h2v4z\"/>\n",
              "    </g>\n",
              "</svg>\n",
              "  </button>\n",
              "\n",
              "<style>\n",
              "  .colab-df-quickchart {\n",
              "      --bg-color: #E8F0FE;\n",
              "      --fill-color: #1967D2;\n",
              "      --hover-bg-color: #E2EBFA;\n",
              "      --hover-fill-color: #174EA6;\n",
              "      --disabled-fill-color: #AAA;\n",
              "      --disabled-bg-color: #DDD;\n",
              "  }\n",
              "\n",
              "  [theme=dark] .colab-df-quickchart {\n",
              "      --bg-color: #3B4455;\n",
              "      --fill-color: #D2E3FC;\n",
              "      --hover-bg-color: #434B5C;\n",
              "      --hover-fill-color: #FFFFFF;\n",
              "      --disabled-bg-color: #3B4455;\n",
              "      --disabled-fill-color: #666;\n",
              "  }\n",
              "\n",
              "  .colab-df-quickchart {\n",
              "    background-color: var(--bg-color);\n",
              "    border: none;\n",
              "    border-radius: 50%;\n",
              "    cursor: pointer;\n",
              "    display: none;\n",
              "    fill: var(--fill-color);\n",
              "    height: 32px;\n",
              "    padding: 0;\n",
              "    width: 32px;\n",
              "  }\n",
              "\n",
              "  .colab-df-quickchart:hover {\n",
              "    background-color: var(--hover-bg-color);\n",
              "    box-shadow: 0 1px 2px rgba(60, 64, 67, 0.3), 0 1px 3px 1px rgba(60, 64, 67, 0.15);\n",
              "    fill: var(--button-hover-fill-color);\n",
              "  }\n",
              "\n",
              "  .colab-df-quickchart-complete:disabled,\n",
              "  .colab-df-quickchart-complete:disabled:hover {\n",
              "    background-color: var(--disabled-bg-color);\n",
              "    fill: var(--disabled-fill-color);\n",
              "    box-shadow: none;\n",
              "  }\n",
              "\n",
              "  .colab-df-spinner {\n",
              "    border: 2px solid var(--fill-color);\n",
              "    border-color: transparent;\n",
              "    border-bottom-color: var(--fill-color);\n",
              "    animation:\n",
              "      spin 1s steps(1) infinite;\n",
              "  }\n",
              "\n",
              "  @keyframes spin {\n",
              "    0% {\n",
              "      border-color: transparent;\n",
              "      border-bottom-color: var(--fill-color);\n",
              "      border-left-color: var(--fill-color);\n",
              "    }\n",
              "    20% {\n",
              "      border-color: transparent;\n",
              "      border-left-color: var(--fill-color);\n",
              "      border-top-color: var(--fill-color);\n",
              "    }\n",
              "    30% {\n",
              "      border-color: transparent;\n",
              "      border-left-color: var(--fill-color);\n",
              "      border-top-color: var(--fill-color);\n",
              "      border-right-color: var(--fill-color);\n",
              "    }\n",
              "    40% {\n",
              "      border-color: transparent;\n",
              "      border-right-color: var(--fill-color);\n",
              "      border-top-color: var(--fill-color);\n",
              "    }\n",
              "    60% {\n",
              "      border-color: transparent;\n",
              "      border-right-color: var(--fill-color);\n",
              "    }\n",
              "    80% {\n",
              "      border-color: transparent;\n",
              "      border-right-color: var(--fill-color);\n",
              "      border-bottom-color: var(--fill-color);\n",
              "    }\n",
              "    90% {\n",
              "      border-color: transparent;\n",
              "      border-bottom-color: var(--fill-color);\n",
              "    }\n",
              "  }\n",
              "</style>\n",
              "\n",
              "  <script>\n",
              "    async function quickchart(key) {\n",
              "      const quickchartButtonEl =\n",
              "        document.querySelector('#' + key + ' button');\n",
              "      quickchartButtonEl.disabled = true;  // To prevent multiple clicks.\n",
              "      quickchartButtonEl.classList.add('colab-df-spinner');\n",
              "      try {\n",
              "        const charts = await google.colab.kernel.invokeFunction(\n",
              "            'suggestCharts', [key], {});\n",
              "      } catch (error) {\n",
              "        console.error('Error during call to suggestCharts:', error);\n",
              "      }\n",
              "      quickchartButtonEl.classList.remove('colab-df-spinner');\n",
              "      quickchartButtonEl.classList.add('colab-df-quickchart-complete');\n",
              "    }\n",
              "    (() => {\n",
              "      let quickchartButtonEl =\n",
              "        document.querySelector('#df-200c9a36-0710-47ef-b7cf-b7e8e63446ee button');\n",
              "      quickchartButtonEl.style.display =\n",
              "        google.colab.kernel.accessAllowed ? 'block' : 'none';\n",
              "    })();\n",
              "  </script>\n",
              "</div>\n",
              "    </div>\n",
              "  </div>\n"
            ]
          },
          "metadata": {},
          "execution_count": 10
        }
      ]
    },
    {
      "cell_type": "markdown",
      "source": [
        "Feature Scalling"
      ],
      "metadata": {
        "id": "oBas8HXqbzuY"
      }
    },
    {
      "cell_type": "code",
      "source": [
        "#The maximum values\n",
        "print('The maximum age is {}'.format(train[\"Age\"].max()))\n",
        "print('The maximum fare is {}'.format(train[\"Fare\"].max()))"
      ],
      "metadata": {
        "id": "LACg93B5b5vK",
        "colab": {
          "base_uri": "https://localhost:8080/"
        },
        "outputId": "2f3be7c3-521b-465f-c96b-a8410305fa87"
      },
      "execution_count": null,
      "outputs": [
        {
          "output_type": "stream",
          "name": "stdout",
          "text": [
            "The maximum age is 80.0\n",
            "The maximum fare is 512.3292\n"
          ]
        }
      ]
    },
    {
      "cell_type": "code",
      "source": [
        "from sklearn.preprocessing import MinMaxScaler\n",
        "\n",
        "scaler = MinMaxScaler()\n",
        "scaler.fit(train)\n",
        "train = scaler.transform(train)\n",
        "\n",
        "print('The minimum value is {} and the maximum value is {}'\n",
        "    .format(train.min(), train.max()))\n"
      ],
      "metadata": {
        "id": "WbdAO_jLcyZF",
        "colab": {
          "base_uri": "https://localhost:8080/"
        },
        "outputId": "1e352173-e34f-47a0-aede-1b3423e9d511"
      },
      "execution_count": null,
      "outputs": [
        {
          "output_type": "stream",
          "name": "stdout",
          "text": [
            "The minimum value is 0.0 and the maximum value is 1.0\n"
          ]
        }
      ]
    },
    {
      "cell_type": "markdown",
      "source": [
        "Separating input from labels and training from testing sets"
      ],
      "metadata": {
        "id": "J9DKREsOeoBv"
      }
    },
    {
      "cell_type": "code",
      "source": [
        "from sklearn.model_selection import train_test_split\n",
        "\n",
        "input_data = train[:, 1:8]\n",
        "labels = train[:, 0]\n",
        "\n",
        "train_input, test_input, train_labels, test_labels = train_test_split(\n",
        "    input_data, labels, test_size = 0.2)\n",
        "print('We have {} training and {} testing rows'.format(train_input.shape[0],\n",
        "                                                       test_input.shape[0]))"
      ],
      "metadata": {
        "id": "ufEGR2r5ei5S",
        "colab": {
          "base_uri": "https://localhost:8080/"
        },
        "outputId": "86db4bf8-b25c-446e-9443-74ede38705d6"
      },
      "execution_count": null,
      "outputs": [
        {
          "output_type": "stream",
          "name": "stdout",
          "text": [
            "We have 711 training and 178 testing rows\n"
          ]
        }
      ]
    },
    {
      "cell_type": "markdown",
      "source": [
        "Save the data to the filesystem"
      ],
      "metadata": {
        "id": "UItn7iPwhkTH"
      }
    },
    {
      "cell_type": "code",
      "source": [
        "import numpy as np\n",
        "\n",
        "with open('.train.npy','wb') as f:\n",
        "  np.save(f, train_input)\n",
        "  np.save(f, train_labels)\n",
        "\n",
        "with open('.test.npy', 'wb') as f:\n",
        "  np.save(f, test_input)\n",
        "  np.save(f, test_labels)"
      ],
      "metadata": {
        "id": "fFO0HB7PhnD4"
      },
      "execution_count": null,
      "outputs": []
    },
    {
      "cell_type": "markdown",
      "source": [
        "A random classifier"
      ],
      "metadata": {
        "id": "nEn9NF_0ix-G"
      }
    },
    {
      "cell_type": "code",
      "source": [
        "import random\n",
        "random.seed(a=None, version=2)\n",
        "\n",
        "def classify(passenger):\n",
        "  return random.randint(0, 1)"
      ],
      "metadata": {
        "id": "JWtSY05miza3"
      },
      "execution_count": null,
      "outputs": []
    },
    {
      "cell_type": "markdown",
      "source": [
        "The classification runner"
      ],
      "metadata": {
        "id": "XCzF5Rcej02W"
      }
    },
    {
      "cell_type": "code",
      "source": [
        "def run(f_classify, x):\n",
        "  return list(map(f_classify, x))"
      ],
      "metadata": {
        "id": "NcXgzBeQj1ux"
      },
      "execution_count": null,
      "outputs": []
    },
    {
      "cell_type": "markdown",
      "source": [
        "Run the classifier"
      ],
      "metadata": {
        "id": "VHweXPdFm_NC"
      }
    },
    {
      "cell_type": "code",
      "source": [
        "result = run(classify, train_input)"
      ],
      "metadata": {
        "id": "8bLV1eAmm-bk"
      },
      "execution_count": null,
      "outputs": []
    },
    {
      "cell_type": "markdown",
      "source": [
        "Evaluate the classifier\n",
        "\n",
        "Since our goal is to predict the actual result correctly, we need to evaluate\n",
        "whether the prediction matches the actual result."
      ],
      "metadata": {
        "id": "UGOFiHtQokEE"
      }
    },
    {
      "cell_type": "code",
      "source": [
        "def evaluate(predictions, actual):\n",
        "  correct = list(filter(\n",
        "      lambda item: item[0] == item[1],\n",
        "      list(zip(predictions,actual))\n",
        "  ))\n",
        "  return '{} correct predictions out of {}, Accuracy {:.0f} %' \\\n",
        "    .format(len(correct), len(actual), 100*len(correct)/len(actual))\n",
        "\n",
        "print(evaluate(run(classify, train_input), train_labels))"
      ],
      "metadata": {
        "id": "MpowiXQ1omiw",
        "colab": {
          "base_uri": "https://localhost:8080/"
        },
        "outputId": "8e0a62d3-6283-453d-9231-5aa6d2938ae4"
      },
      "execution_count": null,
      "outputs": [
        {
          "output_type": "stream",
          "name": "stdout",
          "text": [
            "349 correct predictions out of 711, Accuracy 49 %\n"
          ]
        }
      ]
    },
    {
      "cell_type": "markdown",
      "source": [
        "Always predict a passenger died"
      ],
      "metadata": {
        "id": "RNarWhvBsAQc"
      }
    },
    {
      "cell_type": "code",
      "source": [
        "def predict_death(item):\n",
        "  return 0\n",
        "\n",
        "print(evaluate(run(predict_death, train_input), train_labels))"
      ],
      "metadata": {
        "id": "WckeHWW8sBGE",
        "colab": {
          "base_uri": "https://localhost:8080/"
        },
        "outputId": "abdc96f9-d379-4c3a-8117-36fef23b2d91"
      },
      "execution_count": null,
      "outputs": [
        {
          "output_type": "stream",
          "name": "stdout",
          "text": [
            "444 correct predictions out of 711, Accuracy 62 %\n"
          ]
        }
      ]
    },
    {
      "cell_type": "markdown",
      "source": [
        "True Negatives (TN): a passenger who died was correctly predicted\n",
        "• False Positives (FP): a passenger who died was wrongly predicted to survive\n",
        "• False Negatives (FN): a passenger who survived was wrongly predicted\n",
        "to die\n",
        "• True Positive (TP): a passenger who survived was correctly predicted"
      ],
      "metadata": {
        "id": "OHcZsrRntRdh"
      }
    },
    {
      "cell_type": "code",
      "source": [
        "from sklearn.metrics import confusion_matrix\n",
        "\n",
        "predictions = run(predict_death, train_input)\n",
        "confusion_matrix(train_labels, predictions)"
      ],
      "metadata": {
        "id": "J7Wu-Hp5tS7J",
        "colab": {
          "base_uri": "https://localhost:8080/"
        },
        "outputId": "c82d39de-691c-459c-f45d-b57afa3e2be8"
      },
      "execution_count": null,
      "outputs": [
        {
          "output_type": "execute_result",
          "data": {
            "text/plain": [
              "array([[444,   0],\n",
              "       [267,   0]])"
            ]
          },
          "metadata": {},
          "execution_count": 20
        }
      ]
    },
    {
      "cell_type": "markdown",
      "source": [
        "We can define the accuracy we measured thus far as:\n",
        "Accuracy =\n",
        "(ΣTruePositives+ΣTrueNegatives)/\n",
        "TotalPopulation"
      ],
      "metadata": {
        "id": "YQkT9ylTt0s1"
      }
    },
    {
      "cell_type": "markdown",
      "source": [
        "The precision is the “accuracy of the positive predictions.” It only looks at\n",
        "the positive predictions. These are predictions that the passenger survived.\n",
        "\n",
        "Precision =\n",
        "ΣTruePositives /\n",
        "ΣAllPredictedPositives"
      ],
      "metadata": {
        "id": "H6R6Sp94uUpt"
      }
    },
    {
      "cell_type": "code",
      "source": [
        "from sklearn.metrics import precision_score\n",
        "print('The precision score of the predict_death classifier is {}'\n",
        "    .format(precision_score(train_labels, predictions)))"
      ],
      "metadata": {
        "id": "Id6Id9oOt7Uu",
        "colab": {
          "base_uri": "https://localhost:8080/"
        },
        "outputId": "88b04d93-fd2c-4399-f843-27eddd80e59a"
      },
      "execution_count": null,
      "outputs": [
        {
          "output_type": "stream",
          "name": "stdout",
          "text": [
            "The precision score of the predict_death classifier is 0.0\n"
          ]
        },
        {
          "output_type": "stream",
          "name": "stderr",
          "text": [
            "/usr/local/lib/python3.10/dist-packages/sklearn/metrics/_classification.py:1344: UndefinedMetricWarning: Precision is ill-defined and being set to 0.0 due to no predicted samples. Use `zero_division` parameter to control this behavior.\n",
            "  _warn_prf(average, modifier, msg_start, len(result))\n"
          ]
        }
      ]
    },
    {
      "cell_type": "markdown",
      "source": [
        "The recall is the “accuracy of the actual positives.” It only looks at the actual\n",
        "positives.\n",
        "\n",
        "Recall =\n",
        "ΣTruePositives\n",
        "/ΣAllActualPositives"
      ],
      "metadata": {
        "id": "qd2Vx5VTzvI8"
      }
    },
    {
      "cell_type": "code",
      "source": [
        "from sklearn.metrics import recall_score\n",
        "print('The recall score of the predict_death classifier in {}'\n",
        "      .format(recall_score(train_labels, predictions)))"
      ],
      "metadata": {
        "id": "9Yi6OU46z0xQ",
        "colab": {
          "base_uri": "https://localhost:8080/"
        },
        "outputId": "6db58a55-38b6-4bbf-fe31-1cfc444241c8"
      },
      "execution_count": null,
      "outputs": [
        {
          "output_type": "stream",
          "name": "stdout",
          "text": [
            "The recall score of the predict_death classifier in 0.0\n"
          ]
        }
      ]
    },
    {
      "cell_type": "markdown",
      "source": [
        "The specificity is the “accuracy of the actual negatives.” It only looks at actual\n",
        "negatives (deaths).\n",
        "\n",
        "Specificity =\n",
        "ΣTrueNegatives/\n",
        "ΣAllActualNegatives\n",
        "\n",
        "And the “negative predictive value” (NPV) is the “accuracy of the negative\n",
        "predictions.”\n",
        "\n",
        "NegativePredictiveValue(NPV) =\n",
        "ΣTrueNegatives/\n",
        "ΣAllPredictedNegatives"
      ],
      "metadata": {
        "id": "BBiDVx6h0krb"
      }
    },
    {
      "cell_type": "code",
      "source": [
        "#The specificity and the npv\n",
        "def specificity(matrix):\n",
        "    return matrix[0][0]/(matrix[0][0]+matrix[0][1]) if (matrix[0][0]+matrix\n",
        "        [0][1] > 0) else 0\n",
        "\n",
        "def npv(matrix):\n",
        "    return matrix[0][0]/(matrix[0][0]+matrix[1][0]) if (matrix[0][0]+matrix\n",
        "        [1][0] > 0) else 0\n",
        "\n",
        "cm = confusion_matrix(train_labels, predictions)\n",
        "\n",
        "print('The specificity score of the predict_death classifier is {:.2f}'.\n",
        "      format(specificity(cm)))\n",
        "print('The npv score of the predict_death classifier is {:.2f}'.format(\n",
        "      npv(cm)))\n"
      ],
      "metadata": {
        "id": "Rhk7rmXm0x8v",
        "colab": {
          "base_uri": "https://localhost:8080/"
        },
        "outputId": "f0f59ba8-95b9-43eb-fd70-72e6b5fdb3c7"
      },
      "execution_count": null,
      "outputs": [
        {
          "output_type": "stream",
          "name": "stdout",
          "text": [
            "The specificity score of the predict_death classifier is 1.00\n",
            "The npv score of the predict_death classifier is 0.62\n"
          ]
        }
      ]
    },
    {
      "cell_type": "markdown",
      "source": [
        "Let’s calculate these scores for our random classifier as well:"
      ],
      "metadata": {
        "id": "_3_uHnz0_69V"
      }
    },
    {
      "cell_type": "code",
      "source": [
        "random_predictions = run(classify, train_input)\n",
        "random_cm = confusion_matrix(train_labels, random_predictions)\n",
        "\n",
        "print('The precition score of the random classifier is {:.2f}'\n",
        "      .format(precision_score(train_labels, random_predictions)))\n",
        "print('The recall score of the random classifier is {:.2f}'\n",
        "      .format(recall_score(train_labels, random_predictions)))\n",
        "print('The specificity score of the random classifier is {:.2f}'\n",
        "      .format(specificity(random_cm)))\n",
        "print('The npv score of the random classifier is {:.2f}'\n",
        "      .format(npv(random_cm)))"
      ],
      "metadata": {
        "id": "K6an_Yw5_9MF",
        "colab": {
          "base_uri": "https://localhost:8080/"
        },
        "outputId": "bea2b098-75f1-4472-8207-e9cbfa822e6b"
      },
      "execution_count": null,
      "outputs": [
        {
          "output_type": "stream",
          "name": "stdout",
          "text": [
            "The precition score of the random classifier is 0.35\n",
            "The recall score of the random classifier is 0.45\n",
            "The specificity score of the random classifier is 0.50\n",
            "The npv score of the random classifier is 0.60\n"
          ]
        }
      ]
    },
    {
      "cell_type": "markdown",
      "source": [
        "Unmask the Hypocrite Classifier"
      ],
      "metadata": {
        "id": "SmIWaRa9O0Ae"
      }
    },
    {
      "cell_type": "code",
      "source": [
        "def hypocrite(passenger, weight):\n",
        "  return round(min(1,max(0,weight*0.5+random.uniform(0, 1))))"
      ],
      "metadata": {
        "id": "xEqNLi6zH7NM"
      },
      "execution_count": null,
      "outputs": []
    },
    {
      "cell_type": "markdown",
      "source": [
        "The scores of the hypocrite classifier"
      ],
      "metadata": {
        "id": "ICWM8TJEPW7m"
      }
    },
    {
      "cell_type": "code",
      "source": [
        "w_predictions = run(lambda passenger: hypocrite(passenger, -0.5),\n",
        "                    train_input)\n",
        "w_cm = confusion_matrix(train_labels, w_predictions)\n",
        "\n",
        "print('The precision score of the hypocrite classifier is {:.2f}'\n",
        "      .format(precision_score(train_labels, w_predictions)))\n",
        "print('The recall score of the hypocrite classifier is {:.2f}'\n",
        "      .format(recall_score(train_labels, w_predictions)))\n",
        "print('The specificity score of the hypocrite classifier is {:.2f}'\n",
        "      .format(specificity(w_cm)))\n",
        "print('The npv score of the hypocrite classifier is {:.2f}'\n",
        "      .format(npv(w_cm)))"
      ],
      "metadata": {
        "id": "KJY7HLt-Pbrm",
        "colab": {
          "base_uri": "https://localhost:8080/"
        },
        "outputId": "abdf2646-ec8f-46da-d14f-901058ee0a94"
      },
      "execution_count": null,
      "outputs": [
        {
          "output_type": "stream",
          "name": "stdout",
          "text": [
            "The precision score of the hypocrite classifier is 0.36\n",
            "The recall score of the hypocrite classifier is 0.26\n",
            "The specificity score of the hypocrite classifier is 0.72\n",
            "The npv score of the hypocrite classifier is 0.62\n"
          ]
        }
      ]
    },
    {
      "cell_type": "markdown",
      "source": [
        "Run the hypocrite classifiers"
      ],
      "metadata": {
        "id": "boKWa0e0Rlai"
      }
    },
    {
      "cell_type": "code",
      "source": [
        "import numpy as np\n",
        "\n",
        "#number of steps to consider between -1 and 1\n",
        "cnt_steps = 40\n",
        "\n",
        "#a list of the step numbers [0, 1, ..., 38, 39]\n",
        "steps = np.arange(0, cnt_steps, 1).tolist()\n",
        "\n",
        "#list of the weights at every step [-1, -0.95, ... 0.9, 0.95, 1.0]\n",
        "weights = list(map(\n",
        "    lambda weight: round(weight, 2),\n",
        "    np.arange(-1, 1+2/(cnt_steps-1), 2/(cnt_steps-1)).tolist()\n",
        "))\n",
        "\n",
        "#list of predictions at every step\n",
        "\n",
        "l_predictions = list(map(\n",
        "    lambda step: run(\n",
        "        lambda passenger: hypocrite(passenger, weights[step]),\n",
        "        train_input\n",
        "    ),\n",
        "    steps\n",
        "))\n",
        "\n",
        "#list of confusion matricesat every step\n",
        "l_cm = list(map(\n",
        "    lambda step: confusion_matrix(train_labels, l_predictions[step]),\n",
        "    steps\n",
        "))"
      ],
      "metadata": {
        "id": "RXAOWh-GRmZB"
      },
      "execution_count": null,
      "outputs": []
    },
    {
      "cell_type": "markdown",
      "source": [
        "Plot the distribution of predictions"
      ],
      "metadata": {
        "id": "76_vNoLVUGLs"
      }
    },
    {
      "cell_type": "code",
      "source": [
        "import matplotlib.pyplot as plt\n",
        "import matplotlib\n",
        "\n",
        "#create a graph for the number of predicted deaths\n",
        "deaths, =plt.plot(\n",
        "    weights, #point at x-axis\n",
        "    list(map(lambda cur: l_cm[cur][0][0]+l_cm[cur][1][0], steps)),\n",
        "    'lightsalmon', #color of the graph\n",
        "    label='Predicted death'\n",
        ")\n",
        "\n",
        "#create a graph for the number of predicted survivals\n",
        "survivals, = plt.plot(\n",
        "    weights,#point at x-axis\n",
        "    list(map(lambda cur: l_cm[cur][0][1]+l_cm[cur][1][1], steps)),\n",
        "    'lightgreen',#color of the graph\n",
        "    label='Predicted survival'\n",
        ")\n",
        "\n",
        "plt.legend(handles=[deaths, survivals],loc='upper center',\n",
        "           bbox_to_anchor=(0.5, -0.15), framealpha=0.0, ncol=2)\n",
        "plt.xlabel(\"Weight\")\n",
        "plt.ylabel(\"Number of predictions\")\n",
        "plt.show()"
      ],
      "metadata": {
        "id": "DoDrZubjUHch",
        "colab": {
          "base_uri": "https://localhost:8080/",
          "height": 494
        },
        "outputId": "ddc20210-2728-48b6-934b-25a4031fa464"
      },
      "execution_count": null,
      "outputs": [
        {
          "output_type": "display_data",
          "data": {
            "text/plain": [
              "<Figure size 640x480 with 1 Axes>"
            ],
            "image/png": "[encoded data removed]"
          },
          "metadata": {}
        }
      ]
    },
    {
      "cell_type": "markdown",
      "source": [
        "Metrics of the hypocrite classifier"
      ],
      "metadata": {
        "id": "oSU0qJqnCf7m"
      }
    },
    {
      "cell_type": "code",
      "source": [
        "#we calculate the four metrics at each step.\n",
        "l_precision = list(map(lambda step: precision_score(train_labels,\n",
        "                                                    l_predictions[step]), steps))\n",
        "l_recall = list(map(lambda step: recall_score(train_labels,\n",
        "                                              l_predictions[step]), steps))\n",
        "l_specificity = list(map(lambda step: specificity(l_cm[step]),steps))\n",
        "l_npv = list(map(lambda step: npv(l_cm[step]),steps))"
      ],
      "metadata": {
        "id": "ZUl7HLToCntd",
        "colab": {
          "base_uri": "https://localhost:8080/"
        },
        "outputId": "9bd5de07-1238-4dc9-9da6-6a9fa76ddb38"
      },
      "execution_count": null,
      "outputs": [
        {
          "output_type": "stream",
          "name": "stderr",
          "text": [
            "/usr/local/lib/python3.10/dist-packages/sklearn/metrics/_classification.py:1344: UndefinedMetricWarning: Precision is ill-defined and being set to 0.0 due to no predicted samples. Use `zero_division` parameter to control this behavior.\n",
            "  _warn_prf(average, modifier, msg_start, len(result))\n"
          ]
        }
      ]
    },
    {
      "cell_type": "markdown",
      "source": [
        "Plot the performance measures"
      ],
      "metadata": {
        "id": "OyZr7QbWFnDv"
      }
    },
    {
      "cell_type": "code",
      "source": [
        "m_precision, = plt.plot(weights, l_precision, 'pink', label=\"precision\")\n",
        "m_recall, =plt.plot(weights, l_recall, 'cyan', label=\"recall\")\n",
        "m_specificity, = plt.plot(weights, l_specificity, 'gold', label=\"specificity\")\n",
        "m_npv, = plt.plot(weights, l_npv, 'coral', label=\"npv\")\n",
        "\n",
        "plt.legend(\n",
        "    handles=[m_precision, m_recall, m_specificity, m_npv],\n",
        "    loc='upper center',\n",
        "    bbox_to_anchor=(0.5, -0.15),\n",
        "    framealpha=0.0,\n",
        "    ncol=4\n",
        ")\n",
        "\n",
        "plt.xlabel(\"Weight\")\n",
        "plt.ylabel(\"Number of predictions\")\n",
        "plt.show()"
      ],
      "metadata": {
        "id": "duy8A4hJFq5x",
        "colab": {
          "base_uri": "https://localhost:8080/",
          "height": 494
        },
        "outputId": "a9358a45-b42a-4e11-d26c-b50d7cb4ca3d"
      },
      "execution_count": null,
      "outputs": [
        {
          "output_type": "display_data",
          "data": {
            "text/plain": [
              "<Figure size 640x480 with 1 Axes>"
            ],
            "image/png": "[encoded data removed]"
          },
          "metadata": {}
        }
      ]
    },
    {
      "cell_type": "markdown",
      "source": [
        "These graphs show some exciting characteristics. specificity and recall\n",
        "are directly related to the classifier’s tendency to predict death (higher\n",
        "specificity) or to predict survival (higher recall)."
      ],
      "metadata": {
        "id": "hiQ8LDcAIDZv"
      }
    },
    {
      "cell_type": "markdown",
      "source": [
        "Calculating the mean of the measures"
      ],
      "metadata": {
        "id": "fMw40jprauzu"
      }
    },
    {
      "cell_type": "code",
      "source": [
        "l_mean = list(map(lambda step: sum(step)*0.25, zip(l_precision,\n",
        "                                                   l_recall, l_specificity, l_npv)))\n",
        "m_mean, = plt.plot(weights, l_mean, 'pink', label=\"Mean of the measures\")\n",
        "\n",
        "plt.legend(handles=[m_mean], loc='upper center',\n",
        "           bbox_to_anchor=(0.5, -0.15), framealpha=0.0)\n",
        "plt.ylim(0, 1)\n",
        "plt.show()\n"
      ],
      "metadata": {
        "id": "AcIAA7GhIAkX",
        "colab": {
          "base_uri": "https://localhost:8080/",
          "height": 499
        },
        "outputId": "e699cfa8-e523-46da-9522-9d080c6e05de"
      },
      "execution_count": null,
      "outputs": [
        {
          "output_type": "display_data",
          "data": {
            "text/plain": [
              "<Figure size 640x480 with 1 Axes>"
            ],
            "image/png": "[encoded data removed]"
          },
          "metadata": {}
        }
      ]
    },
    {
      "cell_type": "markdown",
      "source": [
        "This line indicates that the overall level of information provided by all hypocrite\n",
        "classifiers is equal. And the level is about 0.5. That is the baseline for a\n",
        "binary classifier, for there are only two possible outcomes."
      ],
      "metadata": {
        "id": "n8KOCNeRcqjX"
      }
    },
    {
      "cell_type": "markdown",
      "source": [
        "A reusable function to unmask the hypocrite classifier"
      ],
      "metadata": {
        "id": "O5szNVQa03Dk"
      }
    },
    {
      "cell_type": "code",
      "source": [
        "def classifier_report(name, run, classify, input, labels):\n",
        "  cr_predictions = run(classify, input)\n",
        "  cr_cm = confusion_matrix(labels, cr_predictions)\n",
        "  cr_precision = precision_score(labels, cr_predictions)\n",
        "  cr_recall = recall_score(labels, cr_predictions)\n",
        "  cr_specificity = specificity(cr_cm)\n",
        "  cr_npv = npv(cr_cm)\n",
        "  cr_level = 0.25*(cr_precision + cr_recall + cr_specificity + cr_npv)\n",
        "\n",
        "  print('The precision score of the {} classifier is {:.2f}'\n",
        "        .format(name, cr_precision))\n",
        "  print('The recall score of the {} classifier is {:.2f}'\n",
        "        .format(name, cr_recall))\n",
        "  print('The specificity score of the {} classifier is {:.2f}'\n",
        "        .format(name, cr_specificity))\n",
        "  print('The npv score of the {} classifier is {:.2f}'\n",
        "        .format(name, cr_npv))\n",
        "  print('The information level is {:.2f}'\n",
        "        .format(cr_level))"
      ],
      "metadata": {
        "id": "b5jBY-sicsQE"
      },
      "execution_count": null,
      "outputs": []
    },
    {
      "cell_type": "markdown",
      "source": [
        "The report of the random classifier"
      ],
      "metadata": {
        "id": "mqiEusBv4yGj"
      }
    },
    {
      "cell_type": "code",
      "source": [
        "classifier_report(\n",
        "    \"Random PQC\",\n",
        "    run,\n",
        "    classify,\n",
        "    train_input,\n",
        "    train_labels\n",
        ")"
      ],
      "metadata": {
        "id": "0pE-6my940UB",
        "colab": {
          "base_uri": "https://localhost:8080/"
        },
        "outputId": "a816fd75-0ee1-43fc-8c91-8bef589d2686"
      },
      "execution_count": null,
      "outputs": [
        {
          "output_type": "stream",
          "name": "stdout",
          "text": [
            "The precision score of the Random PQC classifier is 0.35\n",
            "The recall score of the Random PQC classifier is 0.46\n",
            "The specificity score of the Random PQC classifier is 0.50\n",
            "The npv score of the Random PQC classifier is 0.60\n",
            "The information level is 0.48\n"
          ]
        }
      ]
    }
  ]
}